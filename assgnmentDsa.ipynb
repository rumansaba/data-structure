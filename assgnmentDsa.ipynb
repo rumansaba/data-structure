{
  "nbformat": 4,
  "nbformat_minor": 0,
  "metadata": {
    "colab": {
      "provenance": []
    },
    "kernelspec": {
      "name": "python3",
      "display_name": "Python 3"
    },
    "language_info": {
      "name": "python"
    }
  },
  "cells": [
    {
      "cell_type": "markdown",
      "source": [
        "Problem 1: Reverse a singly linked list.\n",
        "\n",
        "    Input: 1 -> 2 -> 3 -> 4 -> 5\n",
        "    Output: 5 -> 4 -> 3 -> 2 -> 1"
      ],
      "metadata": {
        "id": "NQ-ZwLQEK0KH"
      }
    },
    {
      "cell_type": "code",
      "execution_count": 3,
      "metadata": {
        "colab": {
          "base_uri": "https://localhost:8080/"
        },
        "id": "polbhpkKKnTp",
        "outputId": "c5a6d726-9376-4d0d-d249-e607e85bcc72"
      },
      "outputs": [
        {
          "output_type": "stream",
          "name": "stdout",
          "text": [
            "Original List:\n",
            "1->2->3->5->None\n",
            "\n",
            "Reversed List:\n",
            "5->3->2->1->None\n"
          ]
        }
      ],
      "source": [
        "class Node:\n",
        "  def __init__(self,data=None,next=None):\n",
        "    self.data = data\n",
        "    self.next = next\n",
        "  def setdata(self,data):\n",
        "    self.data = data\n",
        "  def getdata(self):\n",
        "    return self.data\n",
        "  def setnext(self,next):\n",
        "    self.next = next\n",
        "  def getnext(self):\n",
        "    return self.next\n",
        "\n",
        "head  = Node(1)\n",
        "node2 = Node(2)\n",
        "node3 = Node(3)\n",
        "node4 = Node(4)\n",
        "node4 = Node(5)\n",
        "\n",
        "head.setnext(node2)\n",
        "node2.setnext(node3)\n",
        "node3.setnext(node4)\n",
        "\n",
        "def traverse(head):\n",
        "  temp = head\n",
        "  while(temp):\n",
        "    print(temp.getdata(), end ='->')\n",
        "    temp = temp.getnext()\n",
        "  print(\"None\")\n",
        "\n",
        "# traverse(head)\n",
        "\n",
        "def reverse_tr(head):\n",
        "  prev = None\n",
        "  curr = head\n",
        "  while curr is not None:\n",
        "    next_node = curr.getnext()\n",
        "    curr.setnext(prev)\n",
        "    prev = curr\n",
        "    curr = next_node\n",
        "  return prev\n",
        "\n",
        "print(\"Original List:\")\n",
        "traverse(head)\n",
        "\n",
        "reversed_head = reverse_tr(head)\n",
        "\n",
        "print(\"\\nReversed List:\")\n",
        "traverse(reversed_head)\n"
      ]
    },
    {
      "cell_type": "markdown",
      "source": [
        "Problem 2: Merge two sorted linked lists into one sorted linked list.\n",
        "    Input: List 1: 1 -> 3 -> 5, List 2: 2 -> 4 -> 6\n",
        "    Output: 1 -> 2 -> 3 -> 4 -> 5 -> 6\n",
        "\n",
        "\n"
      ],
      "metadata": {
        "id": "ZWEEIQzTKyUP"
      }
    },
    {
      "cell_type": "code",
      "source": [
        "class Node:\n",
        "  def __init__(self,data=None,next=None):\n",
        "    self.data = data\n",
        "    self.next = next\n",
        "\n",
        "  def setdata(self,data):\n",
        "    self.data = data\n",
        "  def getdata(self):\n",
        "    return self.data\n",
        "\n",
        "  def setnext(self,next):\n",
        "    self.next=next\n",
        "  def getnext(self):\n",
        "    return self.next\n",
        "\n",
        "def traverse(head):\n",
        "  temp = head\n",
        "  while(temp):\n",
        "    print(temp.getdata(), end = '->')\n",
        "    temp = temp.getnext()\n",
        "\n",
        "def merge_lists(head, head2):\n",
        "    if not head:\n",
        "        return head2\n",
        "    if not head2:\n",
        "        return head\n",
        "    temp = head\n",
        "    while temp.getnext():\n",
        "        temp = temp.getnext()\n",
        "    temp.setnext(head2)\n",
        "    return head\n",
        "\n",
        "def length(head):\n",
        "  temp = head\n",
        "  c = 0\n",
        "  while(temp):\n",
        "    c +=1\n",
        "    temp = temp.getnext()\n",
        "  return c\n",
        "\n",
        "# sort the linklist\n",
        "def sortlist(m):\n",
        "  if not head or not head.getnext():\n",
        "    return head\n",
        "  l=length(head)\n",
        "  # Perform bubble sort\n",
        "  for i in range(l):\n",
        "    current = head\n",
        "    for j in range(l- i - 1):\n",
        "      if current.getdata() > current.getnext().getdata():\n",
        "        current.data, current.next.data = current.next.data, current.data\n",
        "      current = current.getnext()\n",
        "\n",
        "  return head\n",
        "\n",
        "head  = Node(3)\n",
        "node2 = Node(5)\n",
        "head.setnext(node2)\n",
        "\n",
        "head2  = Node(2)\n",
        "node2 = Node(4)\n",
        "node3 = Node(6)\n",
        "head2.setnext(node2)\n",
        "node2.setnext(node3)\n",
        "\n",
        "print(\"First list: \" ,end=' ')\n",
        "traverse(head)\n",
        "print()\n",
        "print(\"Second list:\", end=' ')\n",
        "traverse(head2)\n",
        "# Merge the two sorted lists\n",
        "merged_head = merge_lists(head, head2)\n",
        "print()\n",
        "print(\"Merged list:\", end=' ')\n",
        "traverse(merged_head)\n",
        "print()\n",
        "print(\"sorted :\",end=' ')\n",
        "sort_head = sortlist(merged_head)\n",
        "# a = merge_lists(head,head2)\n",
        "traverse(sort_head)\n"
      ],
      "metadata": {
        "id": "opUYkA1OLHqj",
        "colab": {
          "base_uri": "https://localhost:8080/"
        },
        "outputId": "0a8ab51c-74c8-4b5f-a2f7-5505d8632970"
      },
      "execution_count": 4,
      "outputs": [
        {
          "output_type": "stream",
          "name": "stdout",
          "text": [
            "First list:  3->5->\n",
            "Second list: 2->4->6->\n",
            "Merged list: 3->5->2->4->6->\n",
            "sorted : 2->3->4->5->6->"
          ]
        }
      ]
    },
    {
      "cell_type": "markdown",
      "source": [
        "Problem 3: Remove the nth node from the end of a linked list.\n",
        "\n",
        "* Input: 1 -> 2 -> 3 -> 4 -> 5, n = 2\n",
        "  Output: 1 -> 2 -> 3 -> 5\n",
        "\n",
        "\n"
      ],
      "metadata": {
        "id": "PwU8Rz47LMfy"
      }
    },
    {
      "cell_type": "code",
      "source": [
        "class Node:\n",
        "  def __init__(self,data=None, next=None):\n",
        "    self.data = data\n",
        "    self.next = next\n",
        "  def setdata(self,data):\n",
        "    self.data = data\n",
        "  def getdata(self):\n",
        "    return self.data\n",
        "  def setnext(self,next):\n",
        "    self.next = next\n",
        "  def getnext(self):\n",
        "    return self.next\n",
        "head = Node(1)\n",
        "node2 = Node(2)\n",
        "node3 = Node(3)\n",
        "node4 = Node(4)\n",
        "node5 = Node(5)\n",
        "\n",
        "head.setnext(node2)\n",
        "node2.setnext(node3)\n",
        "node3.setnext(node4)\n",
        "node4.setnext(node5)\n",
        "\n",
        "def traverse(head):\n",
        "  temp = head\n",
        "  while(temp):\n",
        "    print(temp.getdata(), end='->')\n",
        "    temp = temp.getnext()\n",
        "\n",
        "def length(head):\n",
        "  temp = head\n",
        "  c = 0\n",
        "  while(temp):\n",
        "    c +=1\n",
        "    temp = temp.getnext()\n",
        "  return c\n",
        "\n",
        "def remove_end(head,n):\n",
        "  # Find the position of the node to be deleted from the beginning\n",
        "  position_to_delete = length(head) - n\n",
        "  if not head or position_to_delete < 0:\n",
        "    return head\n",
        "  # Traverse to the node just before the node to be deleted\n",
        "  current = head\n",
        "  for i in range(position_to_delete - 1):\n",
        "    current = current.next\n",
        "    # Step 4: Delete the kth element from the end by skipping it\n",
        "  current.next = current.next.next\n",
        "\n",
        "  return head\n",
        "\n",
        "print(\"list :\", end='')\n",
        "traverse(head)\n",
        "print()\n",
        "l =length(head)\n",
        "print(\"length of list :\", l)\n",
        "# remove_e = remove_end(head,2)\n",
        "remove_end(head,2)\n",
        "traverse(head)"
      ],
      "metadata": {
        "colab": {
          "base_uri": "https://localhost:8080/"
        },
        "id": "ETvhoDr-ZP6W",
        "outputId": "ae4933f8-32dc-4c71-db2f-c7280738c471"
      },
      "execution_count": 5,
      "outputs": [
        {
          "output_type": "stream",
          "name": "stdout",
          "text": [
            "list :1->2->3->4->5->\n",
            "length of list : 5\n",
            "1->2->3->5->"
          ]
        }
      ]
    },
    {
      "cell_type": "markdown",
      "source": [
        "Problem 4: Find the intersection point of two linked lists.\n",
        "\n",
        "Input: List 1: 1 -> 2 -> 3 -> 4, List 2: 9 -> 8 -> 3 -> 4\n",
        "Output: Node with value 3"
      ],
      "metadata": {
        "id": "jb5nNPLKRSud"
      }
    },
    {
      "cell_type": "code",
      "source": [
        "\n",
        "head1 = Node(1)\n",
        "node2 = Node(2)\n",
        "node3 = Node(3)\n",
        "node4 = Node(4)\n",
        "\n",
        "head1.setnext(node2)\n",
        "node2.setnext(node3)\n",
        "node3.setnext(node4)\n",
        "\n",
        "head2 = Node(9)\n",
        "node2b = Node(8)\n",
        "node3b = Node(3)\n",
        "node4b = Node(4)\n",
        "\n",
        "head2.setnext(node2b)\n",
        "node2b.setnext(node3b)\n",
        "node3b.setnext(node4b)\n",
        "node3b.next = node3\n",
        "print(\"List 1:\")\n",
        "traverse(head1)\n",
        "print()\n",
        "print(\"2nd :\")\n",
        "traverse(head2)\n",
        "\n",
        "def get_length(head):\n",
        "    length = 0\n",
        "    current = head\n",
        "    while current:\n",
        "        length += 1\n",
        "        current = current.next\n",
        "    return length\n",
        "\n",
        "def get_intersection_node(head1, head2):\n",
        "    len1 = get_length(head1)\n",
        "    len2 = get_length(head2)\n",
        "\n",
        "    diff = abs(len1 - len2)\n",
        "\n",
        "    if len1 > len2:\n",
        "        longer, shorter = head1, head2\n",
        "    else:\n",
        "        longer, shorter = head2, head1\n",
        "\n",
        "    for _ in range(diff):\n",
        "        longer = longer.next\n",
        "\n",
        "    while longer and shorter:\n",
        "        if longer == shorter:\n",
        "            return longer\n",
        "        longer = longer.next\n",
        "        shorter = shorter.next\n",
        "\n",
        "    return None\n",
        "intersection_node = get_intersection_node(head1, head2)\n",
        "print(\" \")\n",
        "if intersection_node:\n",
        "    print(f\"The intersection point is at node with value: {intersection_node.data}\")\n",
        "else:\n",
        "    print(\"There is no intersection point.\")"
      ],
      "metadata": {
        "colab": {
          "base_uri": "https://localhost:8080/"
        },
        "id": "ufa6nZfJZPzu",
        "outputId": "49b5e86b-81af-4335-f9ea-83b497a6e1f6"
      },
      "execution_count": 11,
      "outputs": [
        {
          "output_type": "stream",
          "name": "stdout",
          "text": [
            "List 1:\n",
            "1->2->3->4->\n",
            "2nd :\n",
            "9->8->3->3->4-> \n",
            "The intersection point is at node with value: 3\n"
          ]
        }
      ]
    },
    {
      "cell_type": "markdown",
      "source": [
        "Problem 5: Remove duplicates from a sorted linked list.\n",
        "Input: 1 -> 1 -> 2 -> 3 -> 3\n",
        "Output: 1 -> 2 -> 3"
      ],
      "metadata": {
        "id": "BkksQBz1LUzD"
      }
    },
    {
      "cell_type": "code",
      "source": [
        "def remove_duplicat(head):\n",
        "  if not head:\n",
        "    return head\n",
        "\n",
        "  seen = {}\n",
        "  curr = head\n",
        "  prev = None\n",
        "  while(curr):\n",
        "    if curr.data in seen:\n",
        "      prev.next = curr.next  # Skip the duplicate node\n",
        "    else:\n",
        "      seen[curr.data] = True\n",
        "      prev = curr  # Update previous node only if current node is not a duplicate\n",
        "    curr= curr.next\n",
        "  return head\n",
        "\n",
        "head1 = Node(1)\n",
        "node2 = Node(1)\n",
        "node3 = Node(3)\n",
        "node4 = Node(3)\n",
        "\n",
        "head1.setnext(node2)\n",
        "node2.setnext(node3)\n",
        "node3.setnext(node4)\n",
        "\n",
        "traverse(head1)\n",
        "print()\n",
        "head = remove_duplicat(head1)\n",
        "traverse(head)\n"
      ],
      "metadata": {
        "colab": {
          "base_uri": "https://localhost:8080/"
        },
        "id": "vFM8gFavUt-n",
        "outputId": "980cc51a-4f60-4806-e7ef-ffd072a2cdc8"
      },
      "execution_count": 12,
      "outputs": [
        {
          "output_type": "stream",
          "name": "stdout",
          "text": [
            "1->1->3->3->\n",
            "1->3->"
          ]
        }
      ]
    },
    {
      "cell_type": "markdown",
      "source": [
        "Problem 6: Add two numbers represented by linkedlists (where each node contains a single digit).\n",
        "    Input: List 1: 2 -> 4 -> 3, List 2: 5 -> 6 -> 4 (represents 342 + 465)\n",
        "    Output: 7 -> 0 -> 8 (represents 807)"
      ],
      "metadata": {
        "id": "FwVgAZKPRXoE"
      }
    },
    {
      "cell_type": "code",
      "source": [
        "# def sumOfelement():\n",
        "def addTwoNumbers(head1, head2):\n",
        "    dummy = Node()\n",
        "    current = dummy\n",
        "    carry = 0\n",
        "\n",
        "    node1 = head1\n",
        "    node2 = head2\n",
        "\n",
        "    while node1 is not None or node2 is not None or carry:\n",
        "        sum_val = carry\n",
        "\n",
        "        if node1 is not None:\n",
        "            sum_val += node1.getdata()\n",
        "            node1 = node1.getnext()\n",
        "        if node2 is not None:\n",
        "            sum_val += node2.getdata()\n",
        "            node2 = node2.getnext()\n",
        "\n",
        "        carry = sum_val // 10\n",
        "        digit = sum_val % 10\n",
        "        current.next = Node(digit)\n",
        "        current = current.getnext()\n",
        "\n",
        "    return dummy.getnext()\n",
        "\n",
        "head1 = Node(2)\n",
        "node2 = Node(4)\n",
        "node3 = Node(3)\n",
        "\n",
        "head1.setnext(node2)\n",
        "node2.setnext(node3)\n",
        "\n",
        "head2 = Node(5)\n",
        "node2 = Node(6)\n",
        "node3 = Node(4)\n",
        "\n",
        "head2.setnext(node2)\n",
        "node2.setnext(node3)\n",
        "\n",
        "print(\"1 linked list :\")\n",
        "traverse(head1)\n",
        "print()\n",
        "print(\"2 linkedlist :\")\n",
        "traverse(head2)\n",
        "print()\n",
        "head = addTwoNumbers(head1,head2)\n",
        "traverse(head)"
      ],
      "metadata": {
        "colab": {
          "base_uri": "https://localhost:8080/"
        },
        "id": "-z3C5E6ra1cM",
        "outputId": "8ade60f4-3cc0-47c8-ebd9-798ad664f668"
      },
      "execution_count": null,
      "outputs": [
        {
          "output_type": "stream",
          "name": "stdout",
          "text": [
            "1 linked list :\n",
            "2->4->3->\n",
            "2 linkedlist :\n",
            "5->6->4->\n",
            "7->0->8->"
          ]
        }
      ]
    },
    {
      "cell_type": "markdown",
      "source": [
        "7) swap\n",
        "    Input: 1 -> 2 -> 3 -> 4\n",
        "    Output: 2 -> 1 -> 4 -> 3"
      ],
      "metadata": {
        "id": "Wr_xxODw8MeQ"
      }
    },
    {
      "cell_type": "code",
      "source": [
        "head1 = Node(1)\n",
        "node2 = Node(2)\n",
        "node3 = Node(3)\n",
        "node4 = Node(4)\n",
        "\n",
        "head1.setnext(node2)\n",
        "node2.setnext(node3)\n",
        "node3.setnext(node4)\n",
        "\n",
        "traverse(head1)\n",
        "def swapThe(head):\n",
        "  dummy = Node(0)\n",
        "  dummy.next = head\n",
        "  prev = dummy\n",
        "\n",
        "  first = head\n",
        "  second = head.getnext()\n",
        "\n",
        "  # Swap the nodes\n",
        "  prev.next = second\n",
        "  first.next = second.getnext()\n",
        "  second.next = first\n",
        "\n",
        "  # Move prev and head pointers forward\n",
        "  prev = first\n",
        "  head = first.getnext()\n",
        "\n",
        "  return dummy.next\n",
        "\n",
        "head=swapThe(head1)\n",
        "print()\n",
        "traverse(head)"
      ],
      "metadata": {
        "colab": {
          "base_uri": "https://localhost:8080/"
        },
        "id": "R4tJu_O7gC1A",
        "outputId": "0d31263c-3fb3-4e24-80e1-21bf7f3f4ffd"
      },
      "execution_count": 13,
      "outputs": [
        {
          "output_type": "stream",
          "name": "stdout",
          "text": [
            "1->2->3->4->\n",
            "2->1->3->4->"
          ]
        }
      ]
    },
    {
      "cell_type": "markdown",
      "source": [
        "Problem 8: Reverse nodes in a linked list in groups of k.\n",
        "\n",
        "> Input: 1 -> 2 -> 3 -> 4 -> 5, k = 3\n",
        "> Output: 3 -> 2 -> 1 -> 4 -> 5"
      ],
      "metadata": {
        "id": "THoPj8DCIwaE"
      }
    },
    {
      "cell_type": "code",
      "source": [
        "def reverse_k_group(head, k):\n",
        "    if head is None or k == 1:\n",
        "        return head\n",
        "\n",
        "    dummy = Node(0)\n",
        "    dummy.next = head\n",
        "    current, prev = head, dummy\n",
        "    length = 0\n",
        "\n",
        "    # Calculate the length of the linked list\n",
        "    while current:\n",
        "        length += 1\n",
        "        current = current.next\n",
        "\n",
        "    while length >= k:\n",
        "        current = prev.next\n",
        "        next_node = current.next\n",
        "        for _ in range(1, k):\n",
        "            current.next = next_node.next\n",
        "            next_node.next = prev.next\n",
        "            prev.next = next_node\n",
        "            next_node = current.next\n",
        "        prev = current\n",
        "        length -= k\n",
        "\n",
        "    return dummy.next\n",
        "\n",
        "# Helper function to create a linked list from a list of values\n",
        "def create_linked_list(values):\n",
        "    if not values:\n",
        "        return None\n",
        "    head = Node(values[0])\n",
        "    current = head\n",
        "    for value in values[1:]:\n",
        "        current.next = Node(value)\n",
        "        current = current.next\n",
        "    return head\n",
        "\n",
        "# Create the linked list 1 -> 2 -> 3 -> 4 -> 5\n",
        "head = create_linked_list([1, 2, 3, 4, 5])\n",
        "\n",
        "print(\"Original list:\")\n",
        "traverse(head)\n",
        "\n",
        "# Reverse nodes in groups of 3\n",
        "k = 3\n",
        "new_head = reverse_k_group(head, k)\n",
        "\n",
        "print(\"Reversed list in groups of 3:\")\n",
        "traverse(new_head)\n"
      ],
      "metadata": {
        "id": "2-IyFCg0GCrT",
        "colab": {
          "base_uri": "https://localhost:8080/"
        },
        "outputId": "d0ee14b7-2598-4a0d-c130-ba7616ccb0db"
      },
      "execution_count": 14,
      "outputs": [
        {
          "output_type": "stream",
          "name": "stdout",
          "text": [
            "Original list:\n",
            "1->2->3->4->5->Reversed list in groups of 3:\n",
            "3->2->1->4->5->"
          ]
        }
      ]
    },
    {
      "cell_type": "markdown",
      "source": [
        "Problem 9: Determine if a linked list is a palindrome.\n",
        "    Input: 1 -> 2 -> 3 -> 4 -> 5\n",
        "    Output: 5 -> 4 -> 3 -> 2 -> 1\n"
      ],
      "metadata": {
        "id": "rK55DBZjLTdg"
      }
    },
    {
      "cell_type": "code",
      "source": [
        "def reverse_list(head):\n",
        "    prev = None\n",
        "    current = head\n",
        "    while current:\n",
        "        next_node = current.next\n",
        "        current.next = prev\n",
        "        prev = current\n",
        "        current = next_node\n",
        "    return prev\n",
        "\n",
        "def is_palindrome(head):\n",
        "    if not head or not head.next:\n",
        "        return True\n",
        "\n",
        "    # Find the middle of the linked list\n",
        "    slow = fast = head\n",
        "    while fast and fast.next:\n",
        "        slow = slow.next\n",
        "        fast = fast.next.next\n",
        "\n",
        "    # Reverse the second half of the linked list\n",
        "    second_half_start = reverse_list(slow)\n",
        "\n",
        "    # Compare the first half and the reversed second half\n",
        "    first_half_start = head\n",
        "    second_half_copy = second_half_start\n",
        "    while second_half_start:\n",
        "        if first_half_start.data != second_half_start.data:\n",
        "            return False\n",
        "        first_half_start = first_half_start.next\n",
        "        second_half_start = second_half_start.next\n",
        "\n",
        "    # Restore the original list (optional)\n",
        "    reverse_list(second_half_copy)\n",
        "\n",
        "    return True"
      ],
      "metadata": {
        "id": "mTzXO8lgLZPW"
      },
      "execution_count": 15,
      "outputs": []
    },
    {
      "cell_type": "code",
      "source": [
        "# Helper function to create a linked list from a list of values\n",
        "def create_linked_list(values):\n",
        "    if not values:\n",
        "        return None\n",
        "    head = Node(values[0])\n",
        "    current = head\n",
        "    for value in values[1:]:\n",
        "        current.next = Node(value)\n",
        "        current = current.next\n",
        "    return head\n",
        "\n",
        "# Create the linked list 1 -> 2 -> 2 -> 1\n",
        "head = create_linked_list([1, 2, 2, 1])\n",
        "\n",
        "print(\"Original list:\")\n",
        "traverse(head)\n",
        "\n",
        "# Check if the linked list is a palindrome\n",
        "result = is_palindrome(head)\n",
        "print(f\"Is the linked list a palindrome? {result}\")\n"
      ],
      "metadata": {
        "colab": {
          "base_uri": "https://localhost:8080/"
        },
        "id": "TKNI7AWpRicP",
        "outputId": "45500ff4-1f8c-4e30-ebdb-f31fe4092e0b"
      },
      "execution_count": 16,
      "outputs": [
        {
          "output_type": "stream",
          "name": "stdout",
          "text": [
            "Original list:\n",
            "1->2->2->1->Is the linked list a palindrome? True\n"
          ]
        }
      ]
    },
    {
      "cell_type": "markdown",
      "source": [
        "Problem 10: Rotate a linked list to the right by k places.\n",
        "\n",
        ">Input: 1 -> 2 -> 3 -> 4 -> 5, k = 2\n",
        "\n",
        ">Output: 4 -> 5 -> 1 -> 2 -> 3"
      ],
      "metadata": {
        "id": "RgdSD21aMiLh"
      }
    },
    {
      "cell_type": "code",
      "source": [
        "def rotate_right(head, k):\n",
        "    if not head or k == 0:\n",
        "        return head\n",
        "\n",
        "    # Find the length of the linked list and the last node\n",
        "    length = 1\n",
        "    current = head\n",
        "    while current.next:\n",
        "        current = current.next\n",
        "        length += 1\n",
        "\n",
        "    # Connect the last node to the head to make it a circular list\n",
        "    current.next = head\n",
        "\n",
        "    # Calculate the new head position after rotating k places\n",
        "    k = k % length\n",
        "    steps_to_new_head = length - k\n",
        "\n",
        "    # Find the new tail and new head\n",
        "    new_tail = head\n",
        "    for _ in range(steps_to_new_head - 1):\n",
        "        new_tail = new_tail.next\n",
        "    new_head = new_tail.next\n",
        "\n",
        "    # Break the circular link\n",
        "    new_tail.next = None\n",
        "\n",
        "    return new_head"
      ],
      "metadata": {
        "id": "RwdmkkPoRxyz"
      },
      "execution_count": 17,
      "outputs": []
    },
    {
      "cell_type": "code",
      "source": [
        "# Helper function to create a linked list from a list of values\n",
        "def create_linked_list(values):\n",
        "    if not values:\n",
        "        return None\n",
        "    head = Node(values[0])\n",
        "    current = head\n",
        "    for value in values[1:]:\n",
        "        current.next = Node(value)\n",
        "        current = current.next\n",
        "    return head\n",
        "\n",
        "# Create the linked list 1 -> 2 -> 3 -> 4 -> 5\n",
        "head = create_linked_list([1, 2, 3, 4, 5])\n",
        "\n",
        "print(\"Original list:\")\n",
        "traverse(head)\n",
        "\n",
        "# Rotate the linked list to the right by 2 places\n",
        "k = 2\n",
        "new_head = rotate_right(head, k)\n",
        "\n",
        "print(f\"List after rotating to the right by {k} places:\")\n",
        "traverse(new_head)\n"
      ],
      "metadata": {
        "colab": {
          "base_uri": "https://localhost:8080/"
        },
        "id": "VMAlwFJAV9st",
        "outputId": "24a44cb9-117c-40d5-c215-238c54098470"
      },
      "execution_count": 18,
      "outputs": [
        {
          "output_type": "stream",
          "name": "stdout",
          "text": [
            "Original list:\n",
            "1->2->3->4->5->List after rotating to the right by 2 places:\n",
            "4->5->1->2->3->"
          ]
        }
      ]
    },
    {
      "cell_type": "markdown",
      "source": [
        "\n",
        "Problem 11: Flatten a multilevel doubly linked list.\n",
        "\n",
        ">Input: 1 <-> 2 <-> 3 <-> 7 <-> 8 <-> 11 -> 12, 4 <-> 5 -> 9 -> 10, 6 -> 13\n",
        "\n",
        ">Output: 1 <-> 2 <-> 3 <-> 4 <-> 5 <-> 6 <-> 7 <-> 8 <-> 9 <-> 10 <-> 11 <->12<-> 13\n"
      ],
      "metadata": {
        "id": "uU2daD3zWHKW"
      }
    },
    {
      "cell_type": "code",
      "source": [
        "class Node:\n",
        "    def __init__(self, data=None, next=None, child=None):\n",
        "        self.data = data\n",
        "        self.next = next\n",
        "        self.child = child\n",
        "\n",
        "    def __repr__(self):\n",
        "        return f\"Node({self.data})\"\n",
        "\n",
        "def traverse(head):\n",
        "    current = head\n",
        "    while current:\n",
        "        print(current.data, end=\" <-> \" if current.next else \"\")\n",
        "        current = current.next\n",
        "    print(\"None\")\n",
        "\n",
        "def flatten(head):\n",
        "    if not head:\n",
        "        return None\n",
        "\n",
        "    # Dummy node to simplify the process\n",
        "    dummy = Node(0)\n",
        "    current = dummy\n",
        "    stack = [head]\n",
        "\n",
        "    while stack:\n",
        "        node = stack.pop()\n",
        "        current.next = node\n",
        "        node.prev = current\n",
        "        current = current.next\n",
        "\n",
        "        if node.next:\n",
        "            stack.append(node.next)\n",
        "\n",
        "        if node.child:\n",
        "            stack.append(node.child)\n",
        "            node.child = None  # Remove the child pointer\n",
        "\n",
        "    dummy.next.prev = None  # Set the prev of the first node to None\n",
        "    return dummy.next\n"
      ],
      "metadata": {
        "id": "aDPZvH9sWeq-"
      },
      "execution_count": 19,
      "outputs": []
    },
    {
      "cell_type": "code",
      "source": [
        "# Helper function to create a multilevel linked list\n",
        "def create_multilevel_list():\n",
        "    # Level 1\n",
        "    node1 = Node(1)\n",
        "    node2 = Node(2)\n",
        "    node3 = Node(3)\n",
        "    node4 = Node(7)\n",
        "    node5 = Node(8)\n",
        "    node6 = Node(11)\n",
        "    node7 = Node(12)\n",
        "\n",
        "    # Level 2\n",
        "    node8 = Node(4)\n",
        "    node9 = Node(5)\n",
        "    node10 = Node(9)\n",
        "    node11 = Node(10)\n",
        "\n",
        "    # Level 3\n",
        "    node12 = Node(6)\n",
        "    node13 = Node(13)\n",
        "\n",
        "    # Connect Level 1\n",
        "    node1.next = node2\n",
        "    node2.prev = node1\n",
        "    node2.next = node3\n",
        "    node3.prev = node2\n",
        "    node3.next = node4\n",
        "    node4.prev = node3\n",
        "    node4.next = node5\n",
        "    node5.prev = node4\n",
        "    node5.next = node6\n",
        "    node6.prev = node5\n",
        "    node6.next = node7\n",
        "    node7.prev = node6\n",
        "\n",
        "    # Connect Level 2\n",
        "    node8.next = node9\n",
        "    node9.prev = node8\n",
        "    node9.next = node10\n",
        "    node10.prev = node9\n",
        "    node10.next = node11\n",
        "    node11.prev = node10\n",
        "\n",
        "    # Connect Level 3\n",
        "    node12.next = node13\n",
        "    node13.prev = node12\n",
        "\n",
        "    # Connect levels\n",
        "    node3.child = node8\n",
        "    node6.child = node12\n",
        "\n",
        "    return node1\n",
        "\n",
        "# Create the multilevel linked list\n",
        "head = create_multilevel_list()\n",
        "\n",
        "print(\"Original multilevel list:\")\n",
        "traverse(head)\n",
        "\n",
        "# Flatten the multilevel linked list\n",
        "flattened_head = flatten(head)\n",
        "\n",
        "print(\"Flattened linked list:\")\n",
        "traverse(flattened_head)\n"
      ],
      "metadata": {
        "colab": {
          "base_uri": "https://localhost:8080/"
        },
        "id": "ta1ztTXZW7fk",
        "outputId": "be411701-552d-4e9b-fc4f-c20435ae0405"
      },
      "execution_count": 20,
      "outputs": [
        {
          "output_type": "stream",
          "name": "stdout",
          "text": [
            "Original multilevel list:\n",
            "1 <-> 2 <-> 3 <-> 7 <-> 8 <-> 11 <-> 12None\n",
            "Flattened linked list:\n",
            "1 <-> 2 <-> 3 <-> 4 <-> 5 <-> 9 <-> 10 <-> 7 <-> 8 <-> 11 <-> 6 <-> 13 <-> 12None\n"
          ]
        }
      ]
    },
    {
      "cell_type": "markdown",
      "source": [
        "Problem 12: Rearrange a linked list such that all even positioned nodes are placed at the end.\n",
        "\n",
        ">Input: 1 -> 2 -> 3 -> 4 -> 5\n",
        "\n",
        ">Output: 1 -> 3 -> 5 -> 2 -> 4"
      ],
      "metadata": {
        "id": "QdQwNgPrWK-W"
      }
    },
    {
      "cell_type": "code",
      "source": [
        "class Node:\n",
        "    def __init__(self, data=None, next=None):\n",
        "        self.data = data\n",
        "        self.next = next\n",
        "\n",
        "def traverse(head):\n",
        "    current = head\n",
        "    while current:\n",
        "        print(current.data, end=\" -> \" if current.next else \"\")\n",
        "        current = current.next\n",
        "    print(\"None\")\n",
        "\n",
        "def rearrange_odd_even(head):\n",
        "    if not head:\n",
        "        return None\n",
        "\n",
        "    odd_head = odd_tail = None\n",
        "    even_head = even_tail = None\n",
        "    current = head\n",
        "    position = 1\n",
        "\n",
        "    while current:\n",
        "        if position % 2 != 0:\n",
        "            if not odd_head:\n",
        "                odd_head = odd_tail = current\n",
        "            else:\n",
        "                odd_tail.next = current\n",
        "                odd_tail = odd_tail.next\n",
        "        else:\n",
        "            if not even_head:\n",
        "                even_head = even_tail = current\n",
        "            else:\n",
        "                even_tail.next = current\n",
        "                even_tail = even_tail.next\n",
        "        current = current.next\n",
        "        position += 1\n",
        "\n",
        "    # Terminate the odd list\n",
        "    if odd_tail:\n",
        "        odd_tail.next = even_head\n",
        "    # Terminate the even list\n",
        "    if even_tail:\n",
        "        even_tail.next = None\n",
        "\n",
        "    return odd_head\n"
      ],
      "metadata": {
        "id": "RHRG2romXSa3"
      },
      "execution_count": 21,
      "outputs": []
    },
    {
      "cell_type": "code",
      "source": [
        "# Helper function to create a linked list from a list of values\n",
        "def create_linked_list(values):\n",
        "    if not values:\n",
        "        return None\n",
        "    head = Node(values[0])\n",
        "    current = head\n",
        "    for value in values[1:]:\n",
        "        current.next = Node(value)\n",
        "        current = current.next\n",
        "    return head\n",
        "\n",
        "# Create the linked list 1 -> 2 -> 3 -> 4 -> 5\n",
        "head = create_linked_list([1, 2, 3, 4, 5])\n",
        "\n",
        "print(\"Original linked list:\")\n",
        "traverse(head)\n",
        "\n",
        "# Rearrange the linked list\n",
        "rearranged_head = rearrange_odd_even(head)\n",
        "\n",
        "print(\"Rearranged linked list:\")\n",
        "traverse(rearranged_head)\n"
      ],
      "metadata": {
        "colab": {
          "base_uri": "https://localhost:8080/"
        },
        "id": "LAhPTtsPXTIq",
        "outputId": "fbca6b34-2a18-4e6f-e320-3be59f61fd33"
      },
      "execution_count": 22,
      "outputs": [
        {
          "output_type": "stream",
          "name": "stdout",
          "text": [
            "Original linked list:\n",
            "1 -> 2 -> 3 -> 4 -> 5None\n",
            "Rearranged linked list:\n",
            "1 -> 3 -> 5 -> 2 -> 4None\n"
          ]
        }
      ]
    },
    {
      "cell_type": "markdown",
      "source": [
        "Problem 13: Given a non-negative number represented as a linked list, add one to it.\n",
        "\n",
        ">Input: 1 -> 2 -> 3 (represents the number 123)\n",
        "Output: 1 -> 2 -> 4 (represents the number 124)"
      ],
      "metadata": {
        "id": "aLaHbSdnXeBe"
      }
    },
    {
      "cell_type": "code",
      "source": [
        "class Node:\n",
        "    def __init__(self, data=None, next=None):\n",
        "        self.data = data\n",
        "        self.next = next\n",
        "\n",
        "def traverse(head):\n",
        "    current = head\n",
        "    while current:\n",
        "        print(current.data, end=\" -> \" if current.next else \"\")\n",
        "        current = current.next\n",
        "    print(\"None\")\n",
        "\n",
        "def reverse_list(head):\n",
        "    prev = None\n",
        "    current = head\n",
        "    while current:\n",
        "        next_node = current.next\n",
        "        current.next = prev\n",
        "        prev = current\n",
        "        current = next_node\n",
        "    return prev\n",
        "\n",
        "def add_one_to_list(head):\n",
        "    # Reverse the linked list\n",
        "    head = reverse_list(head)\n",
        "\n",
        "    # Add one to the reversed list\n",
        "    current = head\n",
        "    carry = 1  # Initial carry is 1 because we need to add one\n",
        "\n",
        "    while current:\n",
        "        sum_value = current.data + carry\n",
        "        carry = sum_value // 10\n",
        "        current.data = sum_value % 10\n",
        "\n",
        "        # If no carry, we can break early\n",
        "        if carry == 0:\n",
        "            break\n",
        "\n",
        "        if not current.next and carry > 0:\n",
        "            # If we reach the end and still have carry, add a new node\n",
        "            current.next = Node(carry)\n",
        "            carry = 0\n",
        "        current = current.next\n",
        "\n",
        "    # Reverse the linked list back to its original order\n",
        "    head = reverse_list(head)\n",
        "\n",
        "    return head\n"
      ],
      "metadata": {
        "id": "qjQIK0dTXV7K"
      },
      "execution_count": 23,
      "outputs": []
    },
    {
      "cell_type": "code",
      "source": [
        "# Helper function to create a linked list from a list of values\n",
        "def create_linked_list(values):\n",
        "    if not values:\n",
        "        return None\n",
        "    head = Node(values[0])\n",
        "    current = head\n",
        "    for value in values[1:]:\n",
        "        current.next = Node(value)\n",
        "        current = current.next\n",
        "    return head\n",
        "\n",
        "# Create the linked list 1 -> 2 -> 3\n",
        "head = create_linked_list([1, 2, 3])\n",
        "\n",
        "print(\"Original linked list:\")\n",
        "traverse(head)\n",
        "\n",
        "# Add one to the linked list\n",
        "new_head = add_one_to_list(head)\n",
        "\n",
        "print(\"Linked list after adding one:\")\n",
        "traverse(new_head)\n"
      ],
      "metadata": {
        "colab": {
          "base_uri": "https://localhost:8080/"
        },
        "id": "0twdzJ7PXvLP",
        "outputId": "e931c448-6abf-4d48-bd02-f8a1c84371b9"
      },
      "execution_count": 24,
      "outputs": [
        {
          "output_type": "stream",
          "name": "stdout",
          "text": [
            "Original linked list:\n",
            "1 -> 2 -> 3None\n",
            "Linked list after adding one:\n",
            "1 -> 2 -> 4None\n"
          ]
        }
      ]
    },
    {
      "cell_type": "markdown",
      "source": [
        "Problem 14: Given a sorted array and a target value, return the index if the target is found. If not, return the\n",
        "index where it would be inserted.\n",
        "\n",
        ">Input: nums = [1, 3, 5, 6], target = 5\n",
        "Output: 2\n",
        "\n"
      ],
      "metadata": {
        "id": "jf3yGS1CYAEK"
      }
    },
    {
      "cell_type": "code",
      "source": [
        "def search_insert(nums, target):\n",
        "    left, right = 0, len(nums) - 1\n",
        "\n",
        "    while left <= right:\n",
        "        mid = (left + right) // 2\n",
        "        if nums[mid] == target:\n",
        "            return mid\n",
        "        elif nums[mid] < target:\n",
        "            left = mid + 1\n",
        "        else:\n",
        "            right = mid - 1\n",
        "\n",
        "    # If the target is not found, left is the insertion point\n",
        "    return left\n",
        "# Example input\n",
        "nums = [1, 3, 5, 6]\n",
        "target = 5\n",
        "\n",
        "# Call the function\n",
        "index = search_insert(nums, target)\n",
        "\n",
        "print(\"Index:\", index)  # Output: Index: 2\n"
      ],
      "metadata": {
        "colab": {
          "base_uri": "https://localhost:8080/"
        },
        "id": "uvc23-qRXx0K",
        "outputId": "92403598-c20f-42ca-8818-20376ceb442f"
      },
      "execution_count": 25,
      "outputs": [
        {
          "output_type": "stream",
          "name": "stdout",
          "text": [
            "Index: 2\n"
          ]
        }
      ]
    },
    {
      "cell_type": "markdown",
      "source": [
        "Problem 15: Find the minimum element in a rotated sorted array.\n",
        "\n",
        ">Input: [4, 5, 6, 7, 0, 1, 2]\n",
        "Output: 0\n",
        "\n",
        "\n",
        "\n",
        "\n",
        "\n",
        "\n",
        "\n",
        "\n",
        "\n",
        "\n",
        "\n"
      ],
      "metadata": {
        "id": "2Nqc4DQlYaCb"
      }
    },
    {
      "cell_type": "code",
      "source": [
        "def find_minimum_in_rotated_sorted_array(nums):\n",
        "    left, right = 0, len(nums) - 1\n",
        "\n",
        "    while left < right:\n",
        "        mid = (left + right) // 2\n",
        "\n",
        "        # Check if mid element is greater than right element\n",
        "        if nums[mid] > nums[right]:\n",
        "            # Minimum element is in the right part\n",
        "            left = mid + 1\n",
        "        else:\n",
        "            # Minimum element is in the left part or at mid\n",
        "            right = mid\n",
        "\n",
        "    # After the loop, left == right and points to the minimum element\n",
        "    return nums[left]\n",
        "# Example input\n",
        "nums = [4, 5, 6, 7, 0, 1, 2]\n",
        "\n",
        "# Call the function\n",
        "minimum_element = find_minimum_in_rotated_sorted_array(nums)\n",
        "\n",
        "print(\"Minimum element:\", minimum_element)  # Output: Minimum element: 0\n"
      ],
      "metadata": {
        "colab": {
          "base_uri": "https://localhost:8080/"
        },
        "id": "9drqa8M2a0WL",
        "outputId": "dda1cd55-b1fc-42e1-fb08-2d35676a1cc4"
      },
      "execution_count": 27,
      "outputs": [
        {
          "output_type": "stream",
          "name": "stdout",
          "text": [
            "Minimum element: 0\n"
          ]
        }
      ]
    },
    {
      "cell_type": "markdown",
      "source": [
        "Problem 16: Search for a target value in a rotated sorted array.\n",
        "\n",
        ">Input: nums = [4, 5, 6, 7, 0, 1, 2], target = 0\n",
        "Output: 4"
      ],
      "metadata": {
        "id": "QBdbrqWIYyeG"
      }
    },
    {
      "cell_type": "code",
      "source": [
        "def search_target_in_rotated_sorted_array(nums, target):\n",
        "    def find_pivot(nums):\n",
        "        left, right = 0, len(nums) - 1\n",
        "\n",
        "        while left < right:\n",
        "            mid = (left + right) // 2\n",
        "\n",
        "            if nums[mid] > nums[right]:\n",
        "                left = mid + 1\n",
        "            else:\n",
        "                right = mid\n",
        "\n",
        "        return left\n",
        "\n",
        "    def binary_search(nums, left, right, target):\n",
        "        while left <= right:\n",
        "            mid = (left + right) // 2\n",
        "            if nums[mid] == target:\n",
        "                return mid\n",
        "            elif nums[mid] < target:\n",
        "                left = mid + 1\n",
        "            else:\n",
        "                right = mid - 1\n",
        "        return -1\n",
        "\n",
        "    if not nums:\n",
        "        return -1\n",
        "\n",
        "    pivot = find_pivot(nums)\n",
        "\n",
        "    if nums[pivot] <= target <= nums[-1]:\n",
        "        return binary_search(nums, pivot, len(nums) - 1, target)\n",
        "    else:\n",
        "        return binary_search(nums, 0, pivot - 1, target)\n",
        "\n",
        "# Example usage\n",
        "nums = [4, 5, 6, 7, 0, 1, 2]\n",
        "target = 0\n",
        "\n",
        "# Call the function\n",
        "index = search_target_in_rotated_sorted_array(nums, target)\n",
        "\n",
        "print(\"Index of target:\", index)  # Output: Index of target: 4\n"
      ],
      "metadata": {
        "colab": {
          "base_uri": "https://localhost:8080/"
        },
        "id": "oTvdVvgAZW1j",
        "outputId": "7edc35d2-1093-4c8f-e6a8-968c525ad31b"
      },
      "execution_count": 26,
      "outputs": [
        {
          "output_type": "stream",
          "name": "stdout",
          "text": [
            "Index of target: 4\n"
          ]
        }
      ]
    },
    {
      "cell_type": "markdown",
      "source": [
        "Problem 17: Find the peak element in an array. A peak element is greater than its neighbors.\n",
        ">Input: nums = [1, 2, 3, 1]\n",
        "Output: 2 (index of peak element)\n",
        "\n",
        "\n"
      ],
      "metadata": {
        "id": "TBl1gxbnYzyg"
      }
    },
    {
      "cell_type": "code",
      "source": [
        "def find_peak_element(nums):\n",
        "    left, right = 0, len(nums) - 1\n",
        "\n",
        "    while left <= right:\n",
        "        mid = (left + right) // 2\n",
        "\n",
        "        # Check if mid is a peak element\n",
        "        if (mid == 0 or nums[mid] > nums[mid - 1]) and (mid == len(nums) - 1 or nums[mid] > nums[mid + 1]):\n",
        "            return mid\n",
        "        # If the left neighbor is greater, search in the left half\n",
        "        elif mid > 0 and nums[mid] < nums[mid - 1]:\n",
        "            right = mid - 1\n",
        "        # If the right neighbor is greater, search in the right half\n",
        "        else:\n",
        "            left = mid + 1\n",
        "\n",
        "    return -1  # Should not reach here if the input is valid\n",
        "\n",
        "# Example usage\n",
        "nums = [1, 2, 3, 1]\n",
        "\n",
        "# Call the function\n",
        "index = find_peak_element(nums)\n",
        "\n",
        "print(\"Index of peak element:\", index)  # Output: Index of peak element: 2\n"
      ],
      "metadata": {
        "colab": {
          "base_uri": "https://localhost:8080/"
        },
        "id": "uQ82p9B7ZZ0b",
        "outputId": "03118dee-aafb-484b-b00a-dae0f6056b80"
      },
      "execution_count": 28,
      "outputs": [
        {
          "output_type": "stream",
          "name": "stdout",
          "text": [
            "Index of peak element: 2\n"
          ]
        }
      ]
    },
    {
      "cell_type": "markdown",
      "source": [
        "Problem 18: Given a m x n matrix where each row and column is sorted in ascending order, count the number\n",
        "of negative numbers.\n",
        ">Input: grid = [[4, 3, 2, -1], [3, 2, 1, -1], [1, 1, -1, -2], [-1, -1, -2, -3]]\n",
        "Output: 8"
      ],
      "metadata": {
        "id": "IAXF9ZCqZaW_"
      }
    },
    {
      "cell_type": "code",
      "source": [
        "def count_negatives(grid):\n",
        "    if not grid or not grid[0]:\n",
        "        return 0\n",
        "\n",
        "    m, n = len(grid), len(grid[0])\n",
        "    row, col = 0, n - 1\n",
        "    count = 0\n",
        "\n",
        "    while row < m and col >= 0:\n",
        "        if grid[row][col] < 0:\n",
        "            # All elements to the left in this row are also negative\n",
        "            count += (col + 1)\n",
        "            row += 1  # Move to the next row\n",
        "        else:\n",
        "            col -= 1  # Move left in the current row\n",
        "\n",
        "    return count\n",
        "\n",
        "# Example usage\n",
        "grid = [[4, 3, 2, -1], [3, 2, 1, -1], [1, 1, -1, -2], [-1, -1, -2, -3]]\n",
        "\n",
        "# Call the function\n",
        "negative_count = count_negatives(grid)\n",
        "\n",
        "print(\"Number of negative numbers:\", negative_count)  # Output: Number of negative numbers: 8\n"
      ],
      "metadata": {
        "colab": {
          "base_uri": "https://localhost:8080/"
        },
        "id": "WHb08P9vZgcu",
        "outputId": "07430d56-299c-4184-fe40-1db0f9076f25"
      },
      "execution_count": 29,
      "outputs": [
        {
          "output_type": "stream",
          "name": "stdout",
          "text": [
            "Number of negative numbers: 16\n"
          ]
        }
      ]
    },
    {
      "cell_type": "markdown",
      "source": [
        "\n",
        "Problem 19: Given a 2D matrix sorted in ascending order in each row, and the first integer of each row is\n",
        "greater than the last integer of the previous row, determine if a target value is present in the matrix.\n",
        "\n",
        "Input: matrix = [[1, 3, 5, 7], [10, 11, 16, 20], [23, 30, 34, 60]], target = 3\n",
        "Output: True\n"
      ],
      "metadata": {
        "id": "SewmJicaZhj1"
      }
    },
    {
      "cell_type": "code",
      "source": [
        "def search_matrix(matrix, target):\n",
        "    if not matrix or not matrix[0]:\n",
        "        return False\n",
        "\n",
        "    rows = len(matrix)\n",
        "    cols = len(matrix[0])\n",
        "\n",
        "    # Start from the top-right corner of the matrix\n",
        "    row, col = 0, cols - 1\n",
        "\n",
        "    while row < rows and col >= 0:\n",
        "        current = matrix[row][col]\n",
        "\n",
        "        if current == target:\n",
        "            return True\n",
        "        elif current > target:\n",
        "            col -= 1  # Move left\n",
        "        else:\n",
        "            row += 1  # Move down\n",
        "\n",
        "    return False\n",
        "\n",
        "# Example usage\n",
        "matrix = [\n",
        "    [1, 3, 5, 7],\n",
        "    [10, 11, 16, 20],\n",
        "    [23, 30, 34, 60]\n",
        "]\n",
        "target = 3\n",
        "\n",
        "# Call the function\n",
        "result = search_matrix(matrix, target)\n",
        "\n",
        "print(\"Target found:\", result)  # Output: Target found: True\n"
      ],
      "metadata": {
        "colab": {
          "base_uri": "https://localhost:8080/"
        },
        "id": "26Bp7R_7eeqs",
        "outputId": "1185e945-ab41-47a8-9490-c9355b93411a"
      },
      "execution_count": 33,
      "outputs": [
        {
          "output_type": "stream",
          "name": "stdout",
          "text": [
            "Target found: True\n"
          ]
        }
      ]
    },
    {
      "cell_type": "markdown",
      "source": [
        "Problem 20: Find Median in Two Sorted Arrays\n",
        "Problem: Given two sorted arrays, find the median of the combined sorted array.\n",
        ">Input: nums1 = [1, 3], nums2 = [2]\n",
        "Output: 2.0\n"
      ],
      "metadata": {
        "id": "e555EYatcrXA"
      }
    },
    {
      "cell_type": "code",
      "source": [
        "def find_median_sorted_arrays(nums1, nums2):\n",
        "    # Ensure nums1 is the smaller array\n",
        "    if len(nums1) > len(nums2):\n",
        "        nums1, nums2 = nums2, nums1\n",
        "\n",
        "    x, y = len(nums1), len(nums2)\n",
        "    low, high = 0, x\n",
        "\n",
        "    while low <= high:\n",
        "        partitionX = (low + high) // 2\n",
        "        partitionY = (x + y + 1) // 2 - partitionX\n",
        "\n",
        "        maxX = float('-inf') if partitionX == 0 else nums1[partitionX - 1]\n",
        "        minX = float('inf') if partitionX == x else nums1[partitionX]\n",
        "\n",
        "        maxY = float('-inf') if partitionY == 0 else nums2[partitionY - 1]\n",
        "        minY = float('inf') if partitionY == y else nums2[partitionY]\n",
        "\n",
        "        if maxX <= minY and maxY <= minX:\n",
        "            if (x + y) % 2 == 0:\n",
        "                return (max(maxX, maxY) + min(minX, minY)) / 2.0\n",
        "            else:\n",
        "                return max(maxX, maxY)\n",
        "        elif maxX > minY:\n",
        "            high = partitionX - 1\n",
        "        else:\n",
        "            low = partitionX + 1\n",
        "\n",
        "    raise ValueError(\"Input arrays are not sorted correctly\")\n",
        "\n",
        "# Example usage\n",
        "nums1 = [1, 3]\n",
        "nums2 = [2]\n",
        "\n",
        "# Call the function\n",
        "median = find_median_sorted_arrays(nums1, nums2)\n",
        "\n",
        "print(\"Median:\", median)  # Output: Median: 2.0\n"
      ],
      "metadata": {
        "colab": {
          "base_uri": "https://localhost:8080/"
        },
        "id": "d-VOqmV-dqT4",
        "outputId": "9b9eba4b-acc7-457e-d40b-cc2b73dde800"
      },
      "execution_count": 34,
      "outputs": [
        {
          "output_type": "stream",
          "name": "stdout",
          "text": [
            "Median: 2\n"
          ]
        }
      ]
    },
    {
      "cell_type": "markdown",
      "source": [
        "Problem 21: Given a sorted character array and a target letter, find the smallest letter in the array that is\n",
        "greater than the target.\n",
        "> Input: letters = ['c', 'f', 'j'], target = a\n",
        "Output: 'c'"
      ],
      "metadata": {
        "id": "jER9VOn_cyXO"
      }
    },
    {
      "cell_type": "code",
      "source": [
        "def next_greatest_letter(letters, target):\n",
        "    left, right = 0, len(letters) - 1\n",
        "\n",
        "    while left <= right:\n",
        "        mid = (left + right) // 2\n",
        "        if letters[mid] > target:\n",
        "            right = mid - 1\n",
        "        else:\n",
        "            left = mid + 1\n",
        "\n",
        "    # After the loop, left points to the smallest letter greater than target\n",
        "    # If left is out of bounds, wrap around to the start of the array\n",
        "    return letters[left % len(letters)]\n",
        "\n",
        "# Example usage\n",
        "letters = ['c', 'f', 'j']\n",
        "target = 'a'\n",
        "\n",
        "# Call the function\n",
        "result = next_greatest_letter(letters, target)\n",
        "\n",
        "print(\"The smallest letter greater than the target is:\", result)  # Output: 'c'\n"
      ],
      "metadata": {
        "colab": {
          "base_uri": "https://localhost:8080/"
        },
        "id": "ogsJsudHdDfd",
        "outputId": "33ae5d4b-1392-48fc-cb89-3138bae5761a"
      },
      "execution_count": 35,
      "outputs": [
        {
          "output_type": "stream",
          "name": "stdout",
          "text": [
            "The smallest letter greater than the target is: c\n"
          ]
        }
      ]
    },
    {
      "cell_type": "markdown",
      "source": [
        "Problem 22: Given an array with n objects colored red, white, or blue, sort them in-place so that objects of\n",
        "the same color are adjacent, with the colors in the order red, white, and blue.\n",
        ">Input: nums = [2, 0, 2, 1, 1, 0]\n",
        "Output: [0, 0, 1, 1, 2, 2]"
      ],
      "metadata": {
        "id": "clrNe18wc6zm"
      }
    },
    {
      "cell_type": "code",
      "source": [
        "def sort_colors(nums):\n",
        "    low, mid, high = 0, 0, len(nums) - 1\n",
        "\n",
        "    while mid <= high:\n",
        "        if nums[mid] == 0:\n",
        "            nums[low], nums[mid] = nums[mid], nums[low]\n",
        "            low += 1\n",
        "            mid += 1\n",
        "        elif nums[mid] == 1:\n",
        "            mid += 1\n",
        "        else:  # nums[mid] == 2\n",
        "            nums[high], nums[mid] = nums[mid], nums[high]\n",
        "            high -= 1\n",
        "\n",
        "# Example usage\n",
        "nums = [2, 0, 2, 1, 1, 0]\n",
        "\n",
        "# Call the function\n",
        "sort_colors(nums)\n",
        "\n",
        "print(\"Sorted array:\", nums)  # Output: [0, 0, 1, 1, 2, 2]\n"
      ],
      "metadata": {
        "colab": {
          "base_uri": "https://localhost:8080/"
        },
        "id": "KtDUrLtUc570",
        "outputId": "52e45dba-f956-46df-904e-ddb2113ff6b4"
      },
      "execution_count": 36,
      "outputs": [
        {
          "output_type": "stream",
          "name": "stdout",
          "text": [
            "Sorted array: [0, 0, 1, 1, 2, 2]\n"
          ]
        }
      ]
    },
    {
      "cell_type": "markdown",
      "source": [
        "Problem 23: Find the kth largest element in an unsorted array.\n",
        ">Input: nums = [3, 2, 1, 5, 6, 4], k = 2\n",
        "Output: 5\n"
      ],
      "metadata": {
        "id": "MSlecxEGdYdT"
      }
    },
    {
      "cell_type": "code",
      "source": [
        "def find_kth_largest(nums, k):\n",
        "    nums.sort(reverse=True)  # Sort in descending order\n",
        "    return nums[k - 1]\n",
        "\n",
        "# Example usage\n",
        "nums = [3, 2, 1, 5, 6, 4]\n",
        "k = 2\n",
        "\n",
        "print(\"The {}th largest element is:\".format(k), find_kth_largest(nums, k))  # Output: 5\n"
      ],
      "metadata": {
        "colab": {
          "base_uri": "https://localhost:8080/"
        },
        "id": "hHXNMosNdcKl",
        "outputId": "ec33c2d1-6816-4480-ee1f-e848717b1cd0"
      },
      "execution_count": 37,
      "outputs": [
        {
          "output_type": "stream",
          "name": "stdout",
          "text": [
            "The 2th largest element is: 5\n"
          ]
        }
      ]
    },
    {
      "cell_type": "markdown",
      "source": [
        "Problem 24: Given an unsorted array, reorder it in-place such that nums[0] <= nums[1] >= nums[2] <=\n",
        "nums[3]...\n",
        ">Input: nums = [3, 5, 2, 1, 6, 4]\n",
        "Output: [3, 5, 1, 6, 2, 4]"
      ],
      "metadata": {
        "id": "P5D2rmVwdcvd"
      }
    },
    {
      "cell_type": "code",
      "source": [
        "def reorder_array(nums):\n",
        "    for i in range(len(nums) - 1):\n",
        "        if i % 2 == 0:\n",
        "            # Even index: nums[i] should be <= nums[i + 1]\n",
        "            if nums[i] > nums[i + 1]:\n",
        "                nums[i], nums[i + 1] = nums[i + 1], nums[i]\n",
        "        else:\n",
        "            # Odd index: nums[i] should be >= nums[i + 1]\n",
        "            if nums[i] < nums[i + 1]:\n",
        "                nums[i], nums[i + 1] = nums[i + 1], nums[i]\n",
        "\n",
        "# Example usage\n",
        "nums = [3, 5, 2, 1, 6, 4]\n",
        "\n",
        "# Call the function\n",
        "reorder_array(nums)\n",
        "\n",
        "print(\"Reordered array:\", nums)  # Output: [3, 5, 1, 6, 2, 4]\n"
      ],
      "metadata": {
        "colab": {
          "base_uri": "https://localhost:8080/"
        },
        "id": "zg5So2LadenB",
        "outputId": "dccdea36-24b0-4f63-d8d2-99874b66e0e8"
      },
      "execution_count": 32,
      "outputs": [
        {
          "output_type": "stream",
          "name": "stdout",
          "text": [
            "Reordered array: [3, 5, 1, 6, 2, 4]\n"
          ]
        }
      ]
    },
    {
      "cell_type": "markdown",
      "source": [
        "Problem 25: Given an array of integers, calculate the sum of all its elements.\n",
        "\n",
        ">Input: [1, 2, 3, 4, 5]\n",
        "Output: 15"
      ],
      "metadata": {
        "id": "dQbQwp7Gcw27"
      }
    },
    {
      "cell_type": "code",
      "source": [
        "def calculate_sum(arr):\n",
        "    # Initialize sum variable\n",
        "    total_sum = 0\n",
        "\n",
        "    # Iterate through each element and add it to total_sum\n",
        "    for num in arr:\n",
        "        total_sum += num\n",
        "\n",
        "    return total_sum\n",
        "\n",
        "# Example usage\n",
        "arr = [1, 2, 3, 4, 5]\n",
        "\n",
        "# Call the function\n",
        "sum_of_elements = calculate_sum(arr)\n",
        "\n",
        "print(\"Sum of all elements:\", sum_of_elements)  # Output: Sum of all elements: 15\n"
      ],
      "metadata": {
        "colab": {
          "base_uri": "https://localhost:8080/"
        },
        "id": "3lr0KkCodtdE",
        "outputId": "ce8517f5-ffd0-4240-9a24-20e0cfff9a7b"
      },
      "execution_count": 31,
      "outputs": [
        {
          "output_type": "stream",
          "name": "stdout",
          "text": [
            "Sum of all elements: 15\n"
          ]
        }
      ]
    },
    {
      "cell_type": "markdown",
      "source": [
        "Problem 26: Find the maximum element in an array of integers.\n",
        ">Input: [3, 7, 2, 9, 4, 1]\n",
        "Output: 9"
      ],
      "metadata": {
        "id": "HYXAVN5qdsoF"
      }
    },
    {
      "cell_type": "code",
      "source": [
        "def find_maximum(arr):\n",
        "    if not arr:\n",
        "        return None  # Handle the case of an empty array\n",
        "\n",
        "    # Initialize the maximum value with the first element of the array\n",
        "    max_val = arr[0]\n",
        "\n",
        "    # Traverse the array to find the maximum element\n",
        "    for num in arr[1:]:\n",
        "        if num > max_val:\n",
        "            max_val = num\n",
        "\n",
        "    return max_val\n",
        "\n",
        "# Example usage\n",
        "arr = [3, 7, 2, 9, 4, 1]\n",
        "\n",
        "# Call the function\n",
        "max_element = find_maximum(arr)\n",
        "\n",
        "print(\"Maximum element:\", max_element)  # Output: Maximum element: 9\n"
      ],
      "metadata": {
        "colab": {
          "base_uri": "https://localhost:8080/"
        },
        "id": "xkyouvjGdsIe",
        "outputId": "79ce64df-1978-4e9f-cd25-7ff115f67dc9"
      },
      "execution_count": 30,
      "outputs": [
        {
          "output_type": "stream",
          "name": "stdout",
          "text": [
            "Maximum element: 9\n"
          ]
        }
      ]
    },
    {
      "cell_type": "markdown",
      "source": [
        "Problem 27: Implement linear search to find the index of a target element in an array.\n",
        "\n",
        "Input: [5, 3, 8, 2, 7, 4], target = 8\n",
        "Output: 2"
      ],
      "metadata": {
        "id": "nootGqRvfofX"
      }
    },
    {
      "cell_type": "code",
      "source": [
        "def linear_search(arr, target):\n",
        "    for index, value in enumerate(arr):\n",
        "        if value == target:\n",
        "            return index\n",
        "    return -1  # Return -1 if the target is not found\n",
        "\n",
        "# Example usage\n",
        "arr = [5, 3, 8, 2, 7, 4]\n",
        "target = 8\n",
        "\n",
        "index = linear_search(arr, target)\n",
        "print(f\"Index of target {target}: {index}\")  # Output: 2\n"
      ],
      "metadata": {
        "colab": {
          "base_uri": "https://localhost:8080/"
        },
        "id": "gvARwQBkd-n4",
        "outputId": "0fa9cad0-4724-4ac1-ad4e-10858d771c7d"
      },
      "execution_count": 38,
      "outputs": [
        {
          "output_type": "stream",
          "name": "stdout",
          "text": [
            "Index of target 8: 2\n"
          ]
        }
      ]
    },
    {
      "cell_type": "markdown",
      "source": [
        "Problem 28 Calculate the factorial of a given number.\n",
        "Input: 5\n",
        "Output: 120 (as 5! = 5 * 4 * 3 * 2 * 1 = 120)"
      ],
      "metadata": {
        "id": "bnJKYDI7f_vK"
      }
    },
    {
      "cell_type": "code",
      "source": [
        "def factorial_iterative(n):\n",
        "    if n < 0:\n",
        "        raise ValueError(\"Factorial is not defined for negative numbers\")\n",
        "\n",
        "    result = 1\n",
        "    for i in range(1, n + 1):\n",
        "        result *= i\n",
        "    return result\n",
        "\n",
        "# Example usage\n",
        "number = 5\n",
        "print(f\"Factorial of {number} is: {factorial_iterative(number)}\")  # Output: 120\n"
      ],
      "metadata": {
        "colab": {
          "base_uri": "https://localhost:8080/"
        },
        "id": "X-Lhh5ttf8rG",
        "outputId": "566d0f51-f27c-46aa-c538-6ec6d4051732"
      },
      "execution_count": 39,
      "outputs": [
        {
          "output_type": "stream",
          "name": "stdout",
          "text": [
            "Factorial of 5 is: 120\n"
          ]
        }
      ]
    },
    {
      "cell_type": "markdown",
      "source": [
        "Problem 29: Check if a given number is a prime number.\n",
        "Input: 7\n",
        "Output: True"
      ],
      "metadata": {
        "id": "oPt3wjkMgVSc"
      }
    },
    {
      "cell_type": "code",
      "source": [
        "import math\n",
        "\n",
        "def is_prime(n):\n",
        "    if n <= 1:\n",
        "        return False\n",
        "    if n <= 3:\n",
        "        return True\n",
        "    if n % 2 == 0 or n % 3 == 0:\n",
        "        return False\n",
        "    i = 5\n",
        "    while i * i <= n:\n",
        "        if n % i == 0 or n % (i + 2) == 0:\n",
        "            return False\n",
        "        i += 6\n",
        "    return True\n",
        "\n",
        "# Example usage\n",
        "number = 7\n",
        "print(f\"Is {number} a prime number? {is_prime(number)}\")  # Output: True\n"
      ],
      "metadata": {
        "colab": {
          "base_uri": "https://localhost:8080/"
        },
        "id": "PAuAyo35gQYz",
        "outputId": "f21cb3ba-2792-4114-8b67-bac958687f0b"
      },
      "execution_count": 40,
      "outputs": [
        {
          "output_type": "stream",
          "name": "stdout",
          "text": [
            "Is 7 a prime number? True\n"
          ]
        }
      ]
    },
    {
      "cell_type": "markdown",
      "source": [
        "Problem 30: Generate the Fibonacci series up to a given number n.\n",
        ">Input: 8\n",
        "Output: [0, 1, 1, 2, 3, 5, 8, 13]"
      ],
      "metadata": {
        "id": "gzwGjUDEgm2k"
      }
    },
    {
      "cell_type": "code",
      "source": [
        "def fibonacci_up_to_n(n):\n",
        "    if n < 0:\n",
        "        raise ValueError(\"Input should be a non-negative integer\")\n",
        "\n",
        "    fib_series = []\n",
        "    a, b = 0, 1\n",
        "\n",
        "    while a <= n:\n",
        "        fib_series.append(a)\n",
        "        a, b = b, a + b\n",
        "\n",
        "    return fib_series\n",
        "\n",
        "# Example usage\n",
        "n = 8\n",
        "print(f\"Fibonacci series up to {n}: {fibonacci_up_to_n(n)}\")  # Output: [0, 1, 1, 2, 3, 5, 8]\n"
      ],
      "metadata": {
        "colab": {
          "base_uri": "https://localhost:8080/"
        },
        "id": "baJ7Irb8gqoe",
        "outputId": "99228d17-abf9-455c-c9a1-42fcde6fb0fc"
      },
      "execution_count": 41,
      "outputs": [
        {
          "output_type": "stream",
          "name": "stdout",
          "text": [
            "Fibonacci series up to 8: [0, 1, 1, 2, 3, 5, 8]\n"
          ]
        }
      ]
    },
    {
      "cell_type": "markdown",
      "source": [
        "Problem 31: Calculate the power of a number using recursion.\n",
        "\n",
        ">Input: base = 3, exponent = 4\n",
        "Output: 81 (as 3^4 = 3 * 3 * 3 * 3 = 81)"
      ],
      "metadata": {
        "id": "9te-H5Hmg_9A"
      }
    },
    {
      "cell_type": "code",
      "source": [
        "def power(base, exponent):\n",
        "    # Base case: any number raised to the power of 0 is 1\n",
        "    if exponent == 0:\n",
        "        return 1\n",
        "    # Recursive case: base^exponent = base * base^(exponent - 1)\n",
        "    return base * power(base, exponent - 1)\n",
        "\n",
        "# Example usage\n",
        "base = 3\n",
        "exponent = 4\n",
        "print(f\"{base}^{exponent} = {power(base, exponent)}\")  # Output: 81\n"
      ],
      "metadata": {
        "colab": {
          "base_uri": "https://localhost:8080/"
        },
        "id": "dJyEdT7-hIyF",
        "outputId": "6520b925-245e-40d7-a40c-875537d05d5b"
      },
      "execution_count": 42,
      "outputs": [
        {
          "output_type": "stream",
          "name": "stdout",
          "text": [
            "3^4 = 81\n"
          ]
        }
      ]
    },
    {
      "cell_type": "markdown",
      "source": [
        "Problem 32: Reverse a given string.\n",
        "\n",
        ">Input: \"hello\"\n",
        "Output: \"olleh\""
      ],
      "metadata": {
        "id": "vzjmtzS9hJTo"
      }
    },
    {
      "cell_type": "code",
      "source": [
        "def reverse_string(s):\n",
        "    return s[::-1]\n",
        "\n",
        "# Example usage\n",
        "input_string = \"hello\"\n",
        "print(f\"Reversed string: {reverse_string(input_string)}\")  # Output: \"olleh\"\n"
      ],
      "metadata": {
        "colab": {
          "base_uri": "https://localhost:8080/"
        },
        "id": "NOdIIdkyhvX8",
        "outputId": "4d687134-a55b-4e72-cc4d-845859053f28"
      },
      "execution_count": 43,
      "outputs": [
        {
          "output_type": "stream",
          "name": "stdout",
          "text": [
            "Reversed string: olleh\n"
          ]
        }
      ]
    },
    {
      "cell_type": "code",
      "source": [],
      "metadata": {
        "id": "TcO983kVh4k5"
      },
      "execution_count": null,
      "outputs": []
    }
  ]
}