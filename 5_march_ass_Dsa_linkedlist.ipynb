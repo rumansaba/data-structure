{
  "nbformat": 4,
  "nbformat_minor": 0,
  "metadata": {
    "colab": {
      "provenance": []
    },
    "kernelspec": {
      "name": "python3",
      "display_name": "Python 3"
    },
    "language_info": {
      "name": "python"
    }
  },
  "cells": [
    {
      "cell_type": "code",
      "execution_count": null,
      "metadata": {
        "id": "tnPUcjh03sOz"
      },
      "outputs": [],
      "source": []
    },
    {
      "cell_type": "markdown",
      "source": [
        "Define a double linked list  [ Will be done in the class ]\n"
      ],
      "metadata": {
        "id": "Nesh0k6p7MDN"
      }
    },
    {
      "cell_type": "code",
      "source": [
        "class Node:\n",
        "    def __init__(self, data):\n",
        "        self.data = data\n",
        "        self.next = None\n",
        "        self.prev = None\n",
        "\n",
        "class DoublyLinkedList:\n",
        "    def __init__(self):\n",
        "        self.head = None\n",
        "\n",
        "    def append(self, data):\n",
        "        new_node = Node(data)\n",
        "        if self.head is None:\n",
        "            self.head = new_node\n",
        "            return\n",
        "        last = self.head\n",
        "        while last.next:\n",
        "            last = last.next\n",
        "        last.next = new_node\n",
        "        new_node.prev = last\n",
        "\n",
        "    def prepend(self, data):\n",
        "        new_node = Node(data)\n",
        "        if self.head is None:\n",
        "            self.head = new_node\n",
        "            return\n",
        "        self.head.prev = new_node\n",
        "        new_node.next = self.head\n",
        "        self.head = new_node\n",
        "\n",
        "    def insert_after_node(self, prev_node, data):\n",
        "        if prev_node is None:\n",
        "            print(\"The given previous node cannot be NULL\")\n",
        "            return\n",
        "        new_node = Node(data)\n",
        "        new_node.next = prev_node.next\n",
        "        prev_node.next = new_node\n",
        "        new_node.prev = prev_node\n",
        "        if new_node.next:\n",
        "            new_node.next.prev = new_node\n",
        "\n",
        "    def delete_node(self, node):\n",
        "        if self.head is None or node is None:\n",
        "            return\n",
        "        if self.head == node:\n",
        "            self.head = node.next\n",
        "        if node.next:\n",
        "            node.next.prev = node.prev\n",
        "        if node.prev:\n",
        "            node.prev.next = node.next\n",
        "        node = None\n",
        "\n",
        "    def display(self):\n",
        "        current = self.head\n",
        "        while current:\n",
        "            print(current.data, end=\" <=> \")\n",
        "            current = current.next\n",
        "        print(\"None\")\n",
        "\n",
        "# Example usage\n",
        "dll = DoublyLinkedList()\n",
        "dll.append(10)\n",
        "dll.append(20)\n",
        "dll.prepend(5)\n",
        "dll.insert_after_node(dll.head.next, 15)\n",
        "dll.display()  # Output: 5 <=> 10 <=> 15 <=> 20 <=> None\n",
        "\n",
        "dll.delete_node(dll.head.next.next)  # Delete node with data 15\n",
        "dll.display()  # Output: 5 <=> 10 <=> 20 <=> None\n"
      ],
      "metadata": {
        "id": "VEiwHLQQ72je",
        "colab": {
          "base_uri": "https://localhost:8080/"
        },
        "outputId": "6ab82e38-ab8b-4f85-f71c-49ac78a5dabc"
      },
      "execution_count": 1,
      "outputs": [
        {
          "output_type": "stream",
          "name": "stdout",
          "text": [
            "5 <=> 10 <=> 15 <=> 20 <=> None\n",
            "5 <=> 10 <=> 20 <=> None\n"
          ]
        }
      ]
    },
    {
      "cell_type": "markdown",
      "source": [
        "2)Write a function to reverse a linked list in-place\n"
      ],
      "metadata": {
        "id": "TI4gUgPM7QbA"
      }
    },
    {
      "cell_type": "code",
      "source": [
        "class Node:\n",
        "  def __init__(self,data=None, next = None):\n",
        "    self.data = data\n",
        "    self.next = next\n",
        "\n",
        "  def setdata(self, data):\n",
        "    self.data = data\n",
        "  def getdata(self):\n",
        "    return self.data\n",
        "  def setnext(self, next):\n",
        "    self.next = next\n",
        "  def getnext(self):\n",
        "    return self.next\n",
        "\n",
        "def traverse(head):\n",
        "  temp = head\n",
        "  while(temp):\n",
        "    print(temp.getdata(), end = \"->\")\n",
        "    temp = temp.getnext()\n",
        "  print(None)\n",
        "\n",
        "def reverse(head):\n",
        "  prev = None\n",
        "  curr = head\n",
        "  while(curr is not None):\n",
        "    next_node = curr.getnext()\n",
        "    curr.setnext(prev)\n",
        "    prev = curr\n",
        "    curr = next_node\n",
        "  return prev\n",
        "\n",
        "head  = Node(1)\n",
        "node2 = Node(2)\n",
        "node3 = Node(3)\n",
        "node4 = Node(4)\n",
        "node5 = Node(5)\n",
        "\n",
        "head.setnext(node2)\n",
        "node2.setnext(node3)\n",
        "node3.setnext(node4)\n",
        "node5.setnext(node5)\n",
        "\n",
        "traverse(head)\n",
        "print()\n",
        "head = reverse(head)\n",
        "traverse(head)"
      ],
      "metadata": {
        "colab": {
          "base_uri": "https://localhost:8080/"
        },
        "id": "NAY_kIaU7dgb",
        "outputId": "e253c0c6-9a21-4afe-cf0e-f1bea7eb94a6"
      },
      "execution_count": null,
      "outputs": [
        {
          "output_type": "stream",
          "name": "stdout",
          "text": [
            "1->2->3->4->None\n",
            "\n",
            "4->3->2->1->None\n"
          ]
        }
      ]
    },
    {
      "cell_type": "markdown",
      "source": [
        "3) Detect cycle in a linked list"
      ],
      "metadata": {
        "id": "nudK5vfS7eFx"
      }
    },
    {
      "cell_type": "code",
      "source": [
        "def detectCycle(head):\n",
        "  fast = head\n",
        "  slow = head\n",
        "  while(fast and fast.getnext()):\n",
        "    slow = slow.getnext()\n",
        "    fast = fast.getnext().getnext()\n",
        "\n",
        "    if fast and slow.getdata() == fast.getdata():\n",
        "      return True\n",
        "  return False\n",
        "\n",
        "print(detectCycle(head))"
      ],
      "metadata": {
        "colab": {
          "base_uri": "https://localhost:8080/"
        },
        "id": "_8NGk6oK7tkS",
        "outputId": "c6672f2b-5e19-4701-fc53-1b2a096b4666"
      },
      "execution_count": null,
      "outputs": [
        {
          "output_type": "stream",
          "name": "stdout",
          "text": [
            "False\n"
          ]
        }
      ]
    },
    {
      "cell_type": "markdown",
      "source": [
        "4)Merge two sorted linked list into one\n",
        "    "
      ],
      "metadata": {
        "id": "exHMkyIsDB3z"
      }
    },
    {
      "cell_type": "code",
      "source": [
        "def merge(head1,head2):\n",
        "\n",
        "  if not head1:\n",
        "    return head2\n",
        "  if not head2:\n",
        "    return head1\n",
        "  temp = head1\n",
        "  while(temp.getnext()):\n",
        "    temp = temp.getnext()\n",
        "  temp.setnext(head2)\n",
        "  return head1\n",
        "\n",
        "def length(head):\n",
        "  temp = head\n",
        "  c = 0\n",
        "  while(temp):\n",
        "    c +=1\n",
        "    temp = temp.getnext()\n",
        "  return c\n",
        "\n",
        "def sorted(head):\n",
        "  if not head or not head.getnext():\n",
        "    return head\n",
        "  l = length(head)\n",
        "\n",
        "  for i in range(l):\n",
        "    current = head\n",
        "    for j in range(l-i-1):\n",
        "      if current.getdata() > current.getnext().getdata() :\n",
        "        current.data, current.next.data = current.next.data, current.data\n",
        "      current = current.getnext()\n",
        "  return head\n",
        "\n",
        "head1 = Node(2)\n",
        "node2 = Node(1)\n",
        "head1.setnext(node2)\n",
        "head2 = Node(9)\n",
        "node2 = Node(5)\n",
        "node3 = Node(3)\n",
        "head2.setnext(node2)\n",
        "node2.setnext(node3)\n",
        "merge = merge(head1,head2)\n",
        "\n",
        "traverse(merge)\n",
        "\n",
        "print()\n",
        "\n",
        "sortlist = sorted(merge)\n",
        "traverse(sortlist)"
      ],
      "metadata": {
        "colab": {
          "base_uri": "https://localhost:8080/"
        },
        "id": "8WZ01UxQC17a",
        "outputId": "5d3301a8-3985-4906-961c-b8e8971aed57"
      },
      "execution_count": null,
      "outputs": [
        {
          "output_type": "stream",
          "name": "stdout",
          "text": [
            "2->1->9->5->3->None\n",
            "\n",
            "1->2->3->5->9->None\n"
          ]
        }
      ]
    },
    {
      "cell_type": "markdown",
      "source": [
        "5) Write a function to remove nth node from the end in a linked list"
      ],
      "metadata": {
        "id": "d4IanIeYOvfy"
      }
    },
    {
      "cell_type": "code",
      "source": [
        "def remove_end(head,n):\n",
        "  # Find the position of the node to be deleted from the beginning\n",
        "  position_to_delete = length(head) - n\n",
        "  if not head or position_to_delete < 0:\n",
        "    return head\n",
        "  # Traverse to the node just before the node to be deleted\n",
        "  current = head\n",
        "  for i in range(position_to_delete - 1):\n",
        "    current = current.next\n",
        "    # Step 4: Delete the kth element from the end by skipping it\n",
        "  current.next = current.next.next\n",
        "\n",
        "  return head\n",
        "\n",
        "print(\"list :\", end='')\n",
        "traverse(head)\n",
        "print()\n",
        "l =length(head)\n",
        "print(\"length of list :\", l)\n",
        "# remove_e = remove_end(head,2)\n",
        "remove_end(head,2)\n",
        "traverse(head)"
      ],
      "metadata": {
        "colab": {
          "base_uri": "https://localhost:8080/"
        },
        "id": "2OjXALsEIg3F",
        "outputId": "174f6b0f-9e75-475d-a3ff-338dc1d4b903"
      },
      "execution_count": null,
      "outputs": [
        {
          "output_type": "stream",
          "name": "stdout",
          "text": [
            "list :4->3->2->1->None\n",
            "\n",
            "length of list : 4\n",
            "4->3->1->None\n"
          ]
        }
      ]
    },
    {
      "cell_type": "markdown",
      "source": [
        "6) Remove duplicates from a sorted linked list"
      ],
      "metadata": {
        "id": "rw5zSwTfPXbj"
      }
    },
    {
      "cell_type": "code",
      "source": [
        "def remove_duplicat(head):\n",
        "  if not head:\n",
        "    return head\n",
        "\n",
        "  seen = {}\n",
        "  curr = head\n",
        "  prev = None\n",
        "  while(curr):\n",
        "    if curr.data in seen:\n",
        "      prev.next = curr.next  # Skip the duplicate node\n",
        "    else:\n",
        "      seen[curr.data] = True\n",
        "      prev = curr  # Update previous node only if current node is not a duplicate\n",
        "    curr= curr.next\n",
        "  return head\n",
        "\n",
        "head1 = Node(1)\n",
        "node2 = Node(2)\n",
        "node3 = Node(3)\n",
        "node4 = Node(3)\n",
        "\n",
        "head1.setnext(node2)\n",
        "node2.setnext(node3)\n",
        "node3.setnext(node4)\n",
        "\n",
        "traverse(head1)\n",
        "print()\n",
        "head = remove_duplicat(head1)\n",
        "traverse(head)\n"
      ],
      "metadata": {
        "colab": {
          "base_uri": "https://localhost:8080/"
        },
        "id": "4g4Xj_KGPXFi",
        "outputId": "b2ecd685-248e-4ccc-d44b-300d986b93a1"
      },
      "execution_count": null,
      "outputs": [
        {
          "output_type": "stream",
          "name": "stdout",
          "text": [
            "1->2->3->3->None\n",
            "\n",
            "1->2->3->None\n"
          ]
        }
      ]
    },
    {
      "cell_type": "markdown",
      "source": [
        "7) Find the intersection of the two linked lists"
      ],
      "metadata": {
        "id": "KTbRcY2_QbxN"
      }
    },
    {
      "cell_type": "code",
      "source": [
        "class Node:\n",
        "    def __init__(self, data):\n",
        "        self.data = data\n",
        "        self.next = None\n",
        "\n",
        "class LinkedList:\n",
        "    def __init__(self):\n",
        "        self.head = None\n",
        "\n",
        "    def append(self, data):\n",
        "        new_node = Node(data)\n",
        "        if not self.head:\n",
        "            self.head = new_node\n",
        "            return\n",
        "        last = self.head\n",
        "        while last.next:\n",
        "            last = last.next\n",
        "        last.next = new_node\n",
        "\n",
        "    def display(self):\n",
        "        current = self.head\n",
        "        while current:\n",
        "            print(current.data, end=\" -> \")\n",
        "            current = current.next\n",
        "        print(\"None\")\n",
        "\n",
        "    def get_nodes(self):\n",
        "        nodes = set()\n",
        "        current = self.head\n",
        "        while current:\n",
        "            nodes.add(current.data)\n",
        "            current = current.next\n",
        "        return nodes\n",
        "\n",
        "def find_intersection(list1, list2):\n",
        "    nodes1 = list1.get_nodes()\n",
        "    nodes2 = list2.get_nodes()\n",
        "    intersection = nodes1.intersection(nodes2)\n",
        "\n",
        "    intersect_list = LinkedList()\n",
        "    for data in intersection:\n",
        "        intersect_list.append(data)\n",
        "\n",
        "    return intersect_list\n"
      ],
      "metadata": {
        "id": "Go8a9899QYET"
      },
      "execution_count": 2,
      "outputs": []
    },
    {
      "cell_type": "code",
      "source": [
        "# Create two linked lists\n",
        "list1 = LinkedList()\n",
        "list2 = LinkedList()\n",
        "\n",
        "# Append data to the first linked list\n",
        "for data in [1, 2, 3, 4, 8, 6, 9]:\n",
        "    list1.append(data)\n",
        "\n",
        "# Append data to the second linked list\n",
        "for data in [5, 1, 6, 7]:\n",
        "    list2.append(data)\n",
        "\n",
        "# Display the linked lists\n",
        "print(\"List 1:\")\n",
        "list1.display()\n",
        "print(\"List 2:\")\n",
        "list2.display()\n",
        "\n",
        "# Find and display the intersection\n",
        "intersection_list = find_intersection(list1, list2)\n",
        "print(\"Intersection:\")\n",
        "intersection_list.display()\n"
      ],
      "metadata": {
        "colab": {
          "base_uri": "https://localhost:8080/"
        },
        "id": "iB1_nDMm7rjl",
        "outputId": "b580290a-1f39-477f-c819-652475217955"
      },
      "execution_count": 3,
      "outputs": [
        {
          "output_type": "stream",
          "name": "stdout",
          "text": [
            "List 1:\n",
            "1 -> 2 -> 3 -> 4 -> 8 -> 6 -> 9 -> None\n",
            "List 2:\n",
            "5 -> 1 -> 6 -> 7 -> None\n",
            "Intersection:\n",
            "1 -> 6 -> None\n"
          ]
        }
      ]
    },
    {
      "cell_type": "markdown",
      "source": [
        "8) Rotate a linked list by k positiots to the right.\n",
        " >1->2->3->4->8->6->9 , after rotating for 2 times becomes , 3->4->8->6->9->1->2"
      ],
      "metadata": {
        "id": "7hJ2xB3i76Nx"
      }
    },
    {
      "cell_type": "code",
      "source": [
        "class Node:\n",
        "    def __init__(self, data):\n",
        "        self.data = data\n",
        "        self.next = None\n",
        "\n",
        "class LinkedList:\n",
        "    def __init__(self):\n",
        "        self.head = None\n",
        "\n",
        "    def append(self, data):\n",
        "        new_node = Node(data)\n",
        "        if not self.head:\n",
        "            self.head = new_node\n",
        "            return\n",
        "        last = self.head\n",
        "        while last.next:\n",
        "            last = last.next\n",
        "        last.next = new_node\n",
        "\n",
        "    def display(self):\n",
        "        current = self.head\n",
        "        while current:\n",
        "            print(current.data, end=\" -> \")\n",
        "            current = current.next\n",
        "        print(\"None\")\n",
        "\n",
        "    def length(self):\n",
        "        count = 0\n",
        "        current = self.head\n",
        "        while current:\n",
        "            count += 1\n",
        "            current = current.next\n",
        "        return count\n",
        "\n",
        "    def rotate_right(self, k):\n",
        "        if not self.head or k == 0:\n",
        "            return\n",
        "\n",
        "        length = self.length()\n",
        "        k = k % length\n",
        "        if k == 0:\n",
        "            return\n",
        "\n",
        "        # Find the new tail: node at (length - k - 1) position\n",
        "        new_tail = self.head\n",
        "        for _ in range(length - k - 1):\n",
        "            new_tail = new_tail.next\n",
        "\n",
        "        # Find the new head: node at (length - k) position\n",
        "        new_head = new_tail.next\n",
        "\n",
        "        # Find the current tail\n",
        "        current_tail = new_head\n",
        "        while current_tail.next:\n",
        "            current_tail = current_tail.next\n",
        "\n",
        "        # Adjust the pointers\n",
        "        current_tail.next = self.head\n",
        "        self.head = new_head\n",
        "        new_tail.next = None\n",
        "\n",
        "# Example usage\n",
        "ll = LinkedList()\n",
        "for data in [1, 2, 3, 4, 8, 6, 9]:\n",
        "    ll.append(data)\n",
        "\n",
        "print(\"Original List:\")\n",
        "ll.display()\n",
        "\n",
        "k = 2\n",
        "ll.rotate_right(k)\n",
        "\n",
        "print(f\"List after rotating by {k} positions to the right:\")\n",
        "ll.display()\n"
      ],
      "metadata": {
        "colab": {
          "base_uri": "https://localhost:8080/"
        },
        "id": "DYWWnDsk7uGu",
        "outputId": "64cdeff6-c21a-4b5e-d11e-5c2b47ca22cb"
      },
      "execution_count": 5,
      "outputs": [
        {
          "output_type": "stream",
          "name": "stdout",
          "text": [
            "Original List:\n",
            "1 -> 2 -> 3 -> 4 -> 8 -> 6 -> 9 -> None\n",
            "List after rotating by 2 positions to the right:\n",
            "6 -> 9 -> 1 -> 2 -> 3 -> 4 -> 8 -> None\n"
          ]
        }
      ]
    },
    {
      "cell_type": "markdown",
      "source": [
        "9) Add Two Numbers Represented by LinkedLists:"
      ],
      "metadata": {
        "id": "YgRJn0Di8KS-"
      }
    },
    {
      "cell_type": "code",
      "source": [
        "class Node:\n",
        "    def __init__(self, data=0):\n",
        "        self.data = data\n",
        "        self.next = None\n",
        "\n",
        "class LinkedList:\n",
        "    def __init__(self):\n",
        "        self.head = None\n",
        "\n",
        "    def append(self, data):\n",
        "        new_node = Node(data)\n",
        "        if not self.head:\n",
        "            self.head = new_node\n",
        "            return\n",
        "        last = self.head\n",
        "        while last.next:\n",
        "            last = last.next\n",
        "        last.next = new_node\n",
        "\n",
        "    def display(self):\n",
        "        current = self.head\n",
        "        while current:\n",
        "            print(current.data, end=\" -> \")\n",
        "            current = current.next\n",
        "        print(\"None\")\n",
        "\n",
        "    def to_list(self):\n",
        "        lst = []\n",
        "        current = self.head\n",
        "        while current:\n",
        "            lst.append(current.data)\n",
        "            current = current.next\n",
        "        return lst\n",
        "\n",
        "    def from_list(self, lst):\n",
        "        self.head = None\n",
        "        for item in lst:\n",
        "            self.append(item)\n"
      ],
      "metadata": {
        "id": "233LHjlO8dsG"
      },
      "execution_count": 6,
      "outputs": []
    },
    {
      "cell_type": "code",
      "source": [
        "def add_two_numbers(l1, l2):\n",
        "    dummy = Node()\n",
        "    p = l1.head\n",
        "    q = l2.head\n",
        "    current = dummy\n",
        "    carry = 0\n",
        "\n",
        "    while p is not None or q is not None:\n",
        "        x = p.data if p is not None else 0\n",
        "        y = q.data if q is not None else 0\n",
        "        total = carry + x + y\n",
        "        carry = total // 10\n",
        "        current.next = Node(total % 10)\n",
        "        current = current.next\n",
        "        if p is not None: p = p.next\n",
        "        if q is not None: q = q.next\n",
        "\n",
        "    if carry > 0:\n",
        "        current.next = Node(carry)\n",
        "\n",
        "    result = LinkedList()\n",
        "    result.head = dummy.next\n",
        "    return result\n"
      ],
      "metadata": {
        "id": "BcUg3qeGADgi"
      },
      "execution_count": 7,
      "outputs": []
    },
    {
      "cell_type": "code",
      "source": [
        "# Create first linked list\n",
        "l1 = LinkedList()\n",
        "for data in [2, 4, 3]:  # Represents the number 342\n",
        "    l1.append(data)\n",
        "\n",
        "# Create second linked list\n",
        "l2 = LinkedList()\n",
        "for data in [5, 6, 4]:  # Represents the number 465\n",
        "    l2.append(data)\n",
        "\n",
        "print(\"List 1:\")\n",
        "l1.display()\n",
        "\n",
        "print(\"List 2:\")\n",
        "l2.display()\n",
        "\n",
        "# Add the two numbers\n",
        "result = add_two_numbers(l1, l2)\n",
        "\n",
        "print(\"Resultant List after addition:\")\n",
        "result.display()\n"
      ],
      "metadata": {
        "colab": {
          "base_uri": "https://localhost:8080/"
        },
        "id": "vzj26SahALIQ",
        "outputId": "f107cf11-e565-47aa-8f9e-ff1a30393336"
      },
      "execution_count": 8,
      "outputs": [
        {
          "output_type": "stream",
          "name": "stdout",
          "text": [
            "List 1:\n",
            "2 -> 4 -> 3 -> None\n",
            "List 2:\n",
            "5 -> 6 -> 4 -> None\n",
            "Resultant List after addition:\n",
            "7 -> 0 -> 8 -> None\n"
          ]
        }
      ]
    },
    {
      "cell_type": "markdown",
      "source": [
        "10) Clone a Linked List with next and Random Pointer\n",
        "> 1->2->3->4->8->6->9 , after rotating for 2 times Cecomes , 3->4->8->6->9->1->2\n",
        "Given two non-empty linked lists representing two non-negative integers, where the digits are stored in\n",
        "reverse order, add the two numCers and return it as a linked list.\n",
        "Given a linked list of size N where each node has two links: one pointer points to the next node and the\n",
        "second pointer points to any node in the list. The task is to create a clone of this linked list in O(N) time.\n",
        "\n",
        "\n",
        "> Note: The pointer pointing to the next node is ‘next‘ pointer and the one pointing to an arbitrary node is\n",
        "called ‘arbit’ pointer as it can point to any arbitrary node in the linked list."
      ],
      "metadata": {
        "id": "4ybjJPw18ePh"
      }
    },
    {
      "cell_type": "code",
      "source": [
        "class Node:\n",
        "    def __init__(self, data):\n",
        "        self.data = data\n",
        "        self.next = None\n",
        "        self.random = None\n",
        "\n",
        "class LinkedList:\n",
        "    def __init__(self):\n",
        "        self.head = None\n",
        "\n",
        "    def append(self, data):\n",
        "        new_node = Node(data)\n",
        "        if not self.head:\n",
        "            self.head = new_node\n",
        "            return\n",
        "        last = self.head\n",
        "        while last.next:\n",
        "            last = last.next\n",
        "        last.next = new_node\n",
        "\n",
        "    def display(self):\n",
        "        current = self.head\n",
        "        while current:\n",
        "            random_data = current.random.data if current.random else None\n",
        "            print(f'Node data: {current.data}, Random points to: {random_data}')\n",
        "            current = current.next\n",
        "        print()\n"
      ],
      "metadata": {
        "id": "zNSk8-qCAjvr"
      },
      "execution_count": 9,
      "outputs": []
    },
    {
      "cell_type": "code",
      "source": [
        "def clone_linked_list(head):\n",
        "    if not head:\n",
        "        return None\n",
        "\n",
        "    # Step 1: Create interleaved list\n",
        "    current = head\n",
        "    while current:\n",
        "        new_node = Node(current.data)\n",
        "        new_node.next = current.next\n",
        "        current.next = new_node\n",
        "        current = new_node.next\n",
        "\n",
        "    # Step 2: Assign random pointers to copied nodes\n",
        "    current = head\n",
        "    while current:\n",
        "        if current.random:\n",
        "            current.next.random = current.random.next\n",
        "        current = current.next.next\n",
        "\n",
        "    # Step 3: Separate the copied list from the original list\n",
        "    original = head\n",
        "    copy = head.next\n",
        "    copy_head = copy\n",
        "\n",
        "    while original and copy:\n",
        "        original.next = original.next.next\n",
        "        copy.next = copy.next.next if copy.next else None\n",
        "        original = original.next\n",
        "        copy = copy.next\n",
        "\n",
        "    return copy_head\n"
      ],
      "metadata": {
        "id": "f-4IJYKtA0g4"
      },
      "execution_count": 10,
      "outputs": []
    },
    {
      "cell_type": "code",
      "source": [
        "# Create the linked list with random pointers\n",
        "ll = LinkedList()\n",
        "nodes_data = [1, 2, 3, 4, 8, 6, 9]\n",
        "nodes = [Node(data) for data in nodes_data]\n",
        "\n",
        "# Manually linking nodes for example\n",
        "for i in range(len(nodes) - 1):\n",
        "    nodes[i].next = nodes[i + 1]\n",
        "\n",
        "# Setting random pointers arbitrarily\n",
        "nodes[0].random = nodes[2]\n",
        "nodes[1].random = nodes[0]\n",
        "nodes[2].random = nodes[4]\n",
        "nodes[3].random = nodes[6]\n",
        "nodes[4].random = nodes[1]\n",
        "nodes[5].random = nodes[3]\n",
        "nodes[6].random = nodes[5]\n",
        "\n",
        "ll.head = nodes[0]\n",
        "\n",
        "print(\"Original list:\")\n",
        "ll.display()\n",
        "\n",
        "# Clone the list\n",
        "cloned_head = clone_linked_list(ll.head)\n",
        "cloned_list = LinkedList()\n",
        "cloned_list.head = cloned_head\n",
        "\n",
        "print(\"Cloned list:\")\n",
        "cloned_list.display()\n"
      ],
      "metadata": {
        "colab": {
          "base_uri": "https://localhost:8080/"
        },
        "id": "br-OO8piA33d",
        "outputId": "c71b5ac1-a62a-4987-d327-2a710fe45696"
      },
      "execution_count": 11,
      "outputs": [
        {
          "output_type": "stream",
          "name": "stdout",
          "text": [
            "Original list:\n",
            "Node data: 1, Random points to: 3\n",
            "Node data: 2, Random points to: 1\n",
            "Node data: 3, Random points to: 8\n",
            "Node data: 4, Random points to: 9\n",
            "Node data: 8, Random points to: 2\n",
            "Node data: 6, Random points to: 4\n",
            "Node data: 9, Random points to: 6\n",
            "\n",
            "Cloned list:\n",
            "Node data: 1, Random points to: 3\n",
            "Node data: 2, Random points to: 1\n",
            "Node data: 3, Random points to: 8\n",
            "Node data: 4, Random points to: 9\n",
            "Node data: 8, Random points to: 2\n",
            "Node data: 6, Random points to: 4\n",
            "Node data: 9, Random points to: 6\n",
            "\n"
          ]
        }
      ]
    },
    {
      "cell_type": "code",
      "source": [],
      "metadata": {
        "id": "RO2dPw7jA7nc"
      },
      "execution_count": null,
      "outputs": []
    }
  ]
}